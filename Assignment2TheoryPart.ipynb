{
 "cells": [
  {
   "cell_type": "markdown",
   "id": "f312f223",
   "metadata": {},
   "source": [
    "Q26. What is a string? How can we declare string in Python?"
   ]
  },
  {
   "cell_type": "markdown",
   "id": "6ea184c4",
   "metadata": {},
   "source": [
    "Strings are arrays of bytes representing Unicode characters.Strings are immutable, that is we cannot change or delete any character of the string.\n",
    "The ways we can declare string in python:\n",
    "single = 'ferrari'\n",
    "double = \"lamborghini\"\n",
    "multiple = \"\"\"I am \n",
    "a wonderful girl\"\"\""
   ]
  },
  {
   "cell_type": "markdown",
   "id": "4f7554c6",
   "metadata": {},
   "source": [
    "Q27. How can we access the string using its index?"
   ]
  },
  {
   "cell_type": "code",
   "execution_count": 1,
   "id": "733e65de",
   "metadata": {},
   "outputs": [
    {
     "name": "stdout",
     "output_type": "stream",
     "text": [
      "s\n",
      "u\n",
      "a\n"
     ]
    }
   ],
   "source": [
    "#we can access string using its index like this\n",
    "a = \"shalu\"\n",
    "print(a[0])\n",
    "print(a[-1])\n",
    "print(a[2])"
   ]
  },
  {
   "cell_type": "markdown",
   "id": "7bd94be4",
   "metadata": {},
   "source": [
    "Q28. Write a code to get the desired output of the following"
   ]
  },
  {
   "cell_type": "code",
   "execution_count": 5,
   "id": "518bb05b",
   "metadata": {},
   "outputs": [
    {
     "name": "stdout",
     "output_type": "stream",
     "text": [
      "iNeuron\n"
     ]
    }
   ],
   "source": [
    "string = \"Big Data iNeuron\"\n",
    "desired_output = print(string[9:16:1])            #\"iNeuron\""
   ]
  },
  {
   "cell_type": "markdown",
   "id": "8785707d",
   "metadata": {},
   "source": [
    "Q29. Write a code to get the desired output of the following"
   ]
  },
  {
   "cell_type": "code",
   "execution_count": 7,
   "id": "db4734ef",
   "metadata": {},
   "outputs": [
    {
     "name": "stdout",
     "output_type": "stream",
     "text": [
      "norueNi\n"
     ]
    }
   ],
   "source": [
    "string = \"Big Data iNeuron\"\n",
    "desired_output = print(string[-1:-8:-1])"
   ]
  },
  {
   "cell_type": "markdown",
   "id": "167f5543",
   "metadata": {},
   "source": [
    "Q30. Resverse the string given in the above question."
   ]
  },
  {
   "cell_type": "code",
   "execution_count": 26,
   "id": "5afa1254",
   "metadata": {},
   "outputs": [
    {
     "name": "stdout",
     "output_type": "stream",
     "text": [
      "norueNi ataD giB\n"
     ]
    }
   ],
   "source": [
    "string = \"Big Data iNeuron\"\n",
    "desired_output = print(string[-1: :-1])"
   ]
  },
  {
   "cell_type": "markdown",
   "id": "781be0f6",
   "metadata": {},
   "source": [
    "Q31. How can you delete entire string at once?"
   ]
  },
  {
   "cell_type": "code",
   "execution_count": 27,
   "id": "17e444b3",
   "metadata": {},
   "outputs": [],
   "source": [
    "del string"
   ]
  },
  {
   "cell_type": "markdown",
   "id": "04ff43e1",
   "metadata": {},
   "source": [
    "Q32. What is escape sequence?"
   ]
  },
  {
   "cell_type": "markdown",
   "id": "85196a05",
   "metadata": {},
   "source": [
    "An escape sequence is a special character used in the form of backslash(\\) followed by a character that is required.\n",
    "These characters are used to represent whitespace.\n",
    "Whitespace gives characters like space, tab, formfeed, vertical tab."
   ]
  },
  {
   "cell_type": "code",
   "execution_count": 22,
   "id": "54eb99b4",
   "metadata": {},
   "outputs": [
    {
     "name": "stdout",
     "output_type": "stream",
     "text": [
      "My name is 'Cindrella' and I am the \"princess\" \n"
     ]
    }
   ],
   "source": [
    "# examples\n",
    "\n",
    "quote = \"My name is 'Cindrella' and I am the \\\"princess\\\" \"\n",
    "print(quote)"
   ]
  },
  {
   "cell_type": "markdown",
   "id": "5cc4aa44",
   "metadata": {},
   "source": [
    "Q33. How can you print the below string?\n",
    "\n",
    "'iNeuron's Big Data Course'"
   ]
  },
  {
   "cell_type": "code",
   "execution_count": 25,
   "id": "37abd1e2",
   "metadata": {},
   "outputs": [
    {
     "name": "stdout",
     "output_type": "stream",
     "text": [
      "'iNeuron's Big Data Course'\n"
     ]
    }
   ],
   "source": [
    "print( '\\'iNeuron\\'s Big Data Course\\'')"
   ]
  },
  {
   "cell_type": "markdown",
   "id": "e211ce47",
   "metadata": {},
   "source": [
    "Q34. What is a list in Python?"
   ]
  },
  {
   "cell_type": "markdown",
   "id": "5a93d655",
   "metadata": {},
   "source": [
    "Python Lists are just like dynamically sized arrays,and is a sequence data type which is used to store the collection of data.\n",
    "List items are ordered, changeable, and allow duplicate values."
   ]
  },
  {
   "cell_type": "markdown",
   "id": "a4305b87",
   "metadata": {},
   "source": [
    "Q35. How can you create a list in Python? "
   ]
  },
  {
   "cell_type": "code",
   "execution_count": 28,
   "id": "babbd913",
   "metadata": {},
   "outputs": [
    {
     "name": "stdout",
     "output_type": "stream",
     "text": [
      "[1, 2, 'name', [8, 0], (6, 8)]\n"
     ]
    }
   ],
   "source": [
    "# a list is a collection of things, enclosed in [ ] and separated by commas. \n",
    "list = [1,2,'name',[8,0],(6,8)]\n",
    "print(list)"
   ]
  },
  {
   "cell_type": "markdown",
   "id": "1b8a8f40",
   "metadata": {},
   "source": [
    "Q36. How can we access the elements in a list?"
   ]
  },
  {
   "cell_type": "code",
   "execution_count": 29,
   "id": "deda499b",
   "metadata": {},
   "outputs": [
    {
     "name": "stdout",
     "output_type": "stream",
     "text": [
      "1\n"
     ]
    }
   ],
   "source": [
    "#we can access the elements using indexing\n",
    "print(list[0])"
   ]
  },
  {
   "cell_type": "markdown",
   "id": "13b597f3",
   "metadata": {},
   "source": [
    "Q37. Write a code to access the word \"iNeuron\" from the given list."
   ]
  },
  {
   "cell_type": "code",
   "execution_count": 31,
   "id": "f45a1444",
   "metadata": {},
   "outputs": [
    {
     "name": "stdout",
     "output_type": "stream",
     "text": [
      "iNeuron\n"
     ]
    }
   ],
   "source": [
    "lst = [1,2,3,\"Hi\",[45,54, \"iNeuron\"], \"Big Data\"]\n",
    "print(lst[4][2])"
   ]
  },
  {
   "cell_type": "markdown",
   "id": "b7043125",
   "metadata": {},
   "source": [
    "Q38. Take a list as an input from the user and find the length of the list."
   ]
  },
  {
   "cell_type": "code",
   "execution_count": 37,
   "id": "cd22e161",
   "metadata": {},
   "outputs": [
    {
     "name": "stdout",
     "output_type": "stream",
     "text": [
      "Enter elements(space-separeted): shalu is love\n",
      "The list is: ['shalu', 'is', 'love']\n",
      "length of the list: 3\n"
     ]
    }
   ],
   "source": [
    "#The split() method splits a string into a list.\n",
    "\n",
    "string = input(\"Enter elements(space-separeted): \")\n",
    "list1 = string.split()\n",
    "print('The list is:',list1)\n",
    "print(\"length of the list:\",len(list1))"
   ]
  },
  {
   "cell_type": "markdown",
   "id": "2f61a055",
   "metadata": {},
   "source": [
    "Q39. Add the word \"Big\" in the 3rd index of the given list."
   ]
  },
  {
   "cell_type": "code",
   "execution_count": 39,
   "id": "7de8d985",
   "metadata": {},
   "outputs": [
    {
     "name": "stdout",
     "output_type": "stream",
     "text": [
      "['Welcome', 'to', 'Data', 'Big', 'course']\n"
     ]
    }
   ],
   "source": [
    "lst = [\"Welcome\", \"to\", \"Data\", \"course\"]\n",
    "lst.insert(3,\"Big\")\n",
    "print(lst)"
   ]
  },
  {
   "cell_type": "markdown",
   "id": "6eb7a526",
   "metadata": {},
   "source": [
    "Q40. What is a tuple? How is it different from list?"
   ]
  },
  {
   "cell_type": "markdown",
   "id": "af3fd957",
   "metadata": {},
   "source": [
    "A tuple is an immutable collection and are used to store multiple items in a single variable.\n",
    "Differences:-\n",
    "Tuples are written with round brackets().Lists are written with square brackets[].\n",
    "Tuple are immutable.Lists are mutable.\n",
    "But Both contains ordered and duplicate values. "
   ]
  },
  {
   "cell_type": "markdown",
   "id": "1807e67e",
   "metadata": {},
   "source": [
    "Q41. How can you create a tuple in Python?"
   ]
  },
  {
   "cell_type": "code",
   "execution_count": 41,
   "id": "9ad34bea",
   "metadata": {},
   "outputs": [
    {
     "name": "stdout",
     "output_type": "stream",
     "text": [
      "('hello', 4, (6, 7), [7, 0], {'k': 'v'}) 0\n"
     ]
    }
   ],
   "source": [
    "t1 = ('hello',4,(6,7),[7,0],{'k':'v'})\n",
    "t2 = () #empty tuple\n",
    "print(t1,len(t2))"
   ]
  },
  {
   "cell_type": "markdown",
   "id": "54aec219",
   "metadata": {},
   "source": [
    "Q42. Create a tuple and try to add your name in the tuple. Are you able to do it? Support your answer with reason."
   ]
  },
  {
   "cell_type": "code",
   "execution_count": 49,
   "id": "a544d4ee",
   "metadata": {},
   "outputs": [
    {
     "name": "stdout",
     "output_type": "stream",
     "text": [
      "(0, 7)\n"
     ]
    }
   ],
   "source": [
    "tupl= (0,7)\n",
    "#we will not be able to do it because Tuples are unchangeable, \n",
    "#meaning that we cannot change, add or remove items after the tuple has been created.\n",
    "print(tupl)"
   ]
  },
  {
   "cell_type": "markdown",
   "id": "56ccb8ee",
   "metadata": {},
   "source": [
    "Q43. Can two tuple be appended. If yes, write a code for it. If not, why?"
   ]
  },
  {
   "cell_type": "code",
   "execution_count": 53,
   "id": "6d3c2c39",
   "metadata": {},
   "outputs": [
    {
     "name": "stdout",
     "output_type": "stream",
     "text": [
      "(('rat', 'mouse'), ('mice', 'monkey'))\n"
     ]
    }
   ],
   "source": [
    "#Yes We can add tuples to tuples. \n",
    "tupl1 = ('rat','mouse')\n",
    "tupl2 = ('mice','monkey')\n",
    "tupl3 = (tupl1 , tupl2)\n",
    "print(tupl3)"
   ]
  },
  {
   "cell_type": "markdown",
   "id": "d13618ab",
   "metadata": {},
   "source": [
    "Q44. Take a tuple as an input and print the count of elements in it."
   ]
  },
  {
   "cell_type": "code",
   "execution_count": 2,
   "id": "f9703d6c",
   "metadata": {
    "scrolled": true
   },
   "outputs": [
    {
     "name": "stdout",
     "output_type": "stream",
     "text": [
      "write your inputs :789\n",
      "('7', '8', '9')\n",
      "count of elements in tuple: 3\n"
     ]
    }
   ],
   "source": [
    "values = input(\"write your inputs :\")\n",
    "tvalues=[] \n",
    "for i in values:\n",
    "    tvalues.append(i)    \n",
    "tuple1 = tuple(tvalues)\n",
    "print(tuple1)\n",
    "print(\"count of elements in tuple:\",len(tuple1))\n",
    "#it's giving correct output in other ide but not here"
   ]
  },
  {
   "cell_type": "markdown",
   "id": "bea31ad8",
   "metadata": {},
   "source": [
    "Q45. What are sets in Python?"
   ]
  },
  {
   "cell_type": "markdown",
   "id": "37f319e0",
   "metadata": {},
   "source": [
    "A Set is an unordered collection data type that is iterable, mutable and has no duplicate elements.Set are represented by { } "
   ]
  },
  {
   "cell_type": "markdown",
   "id": "e4ba309f",
   "metadata": {},
   "source": [
    "Q46. How can you create a set?"
   ]
  },
  {
   "cell_type": "code",
   "execution_count": 62,
   "id": "9eaa9731",
   "metadata": {},
   "outputs": [
    {
     "name": "stdout",
     "output_type": "stream",
     "text": [
      "<class 'set'> <class 'set'>\n"
     ]
    }
   ],
   "source": [
    "set1 = set()\n",
    "set2 = {1,3,3,4,67,0}\n",
    "print(type(set1),type(set2))"
   ]
  },
  {
   "cell_type": "markdown",
   "id": "cb6f6193",
   "metadata": {},
   "source": [
    "Q47. Create a set and add \"iNeuron\" in your set."
   ]
  },
  {
   "cell_type": "code",
   "execution_count": 65,
   "id": "c5582589",
   "metadata": {},
   "outputs": [
    {
     "name": "stdout",
     "output_type": "stream",
     "text": [
      "{'beach', 'goa', 'iNeuron'}\n"
     ]
    }
   ],
   "source": [
    "sett = {'goa','beach'}\n",
    "sett.add('iNeuron')\n",
    "print(sett)"
   ]
  },
  {
   "cell_type": "markdown",
   "id": "0e6d13b4",
   "metadata": {},
   "source": [
    "Q48. Try to add multiple values using add() function"
   ]
  },
  {
   "cell_type": "code",
   "execution_count": 67,
   "id": "e09ca274",
   "metadata": {},
   "outputs": [
    {
     "name": "stdout",
     "output_type": "stream",
     "text": [
      "{'y', 'u', 'goa', 'z', 'iNeuron', 'beach'}\n"
     ]
    }
   ],
   "source": [
    "sett.add('z')\n",
    "sett.add('y')\n",
    "sett.add('u')\n",
    "print(sett)"
   ]
  },
  {
   "cell_type": "markdown",
   "id": "34721090",
   "metadata": {},
   "source": [
    "Q49. How is update() different from add()?"
   ]
  },
  {
   "cell_type": "markdown",
   "id": "1063707b",
   "metadata": {},
   "source": [
    "add() accepts single parameter at a time.\n",
    "update() accepts multiple values to be inserted at a time. \n",
    "add () is faster than update ().\n",
    "add () accepts immutable parameters only. Whereas update accepts iterable sequences."
   ]
  },
  {
   "cell_type": "markdown",
   "id": "1a442570",
   "metadata": {},
   "source": [
    "Q50. What is clear() in sets?"
   ]
  },
  {
   "cell_type": "markdown",
   "id": "9f147bba",
   "metadata": {},
   "source": [
    "Python Set clear() method removes all elements from the set."
   ]
  },
  {
   "cell_type": "markdown",
   "id": "ae002ab2",
   "metadata": {},
   "source": [
    "Q51. What is frozen set?"
   ]
  },
  {
   "cell_type": "markdown",
   "id": "4a9c67de",
   "metadata": {},
   "source": [
    "Python frozenset() Method creates an immutable Set object from an iterable. It is a built-in Python function.\n",
    "As it is a set object therefore we cannot have duplicate values in the frozenset."
   ]
  },
  {
   "cell_type": "code",
   "execution_count": 68,
   "id": "a015fbec",
   "metadata": {},
   "outputs": [
    {
     "name": "stdout",
     "output_type": "stream",
     "text": [
      "frozenset({'doom', 'dear', 'door'})\n"
     ]
    }
   ],
   "source": [
    "s1 = {\"dear\",\"doom\",\"door\",\"dear\"}\n",
    "frozens1 = frozenset(s1)\n",
    "print(frozens1)"
   ]
  },
  {
   "cell_type": "markdown",
   "id": "252f585a",
   "metadata": {},
   "source": [
    "Q52. How is frozen set different from set?"
   ]
  },
  {
   "cell_type": "markdown",
   "id": "ac305a67",
   "metadata": {},
   "source": [
    "Since the elements are fixed, unlike sets we can't add or remove elements from the frozen set.\n",
    "Sets are not hashable but Frozensets are hashable, we can use the elements as a dictionary key or as an element from another set. "
   ]
  },
  {
   "cell_type": "markdown",
   "id": "70ade3eb",
   "metadata": {},
   "source": [
    "Q53. What is union() in sets? Explain via code."
   ]
  },
  {
   "cell_type": "code",
   "execution_count": 69,
   "id": "fa7722ba",
   "metadata": {},
   "outputs": [
    {
     "name": "stdout",
     "output_type": "stream",
     "text": [
      "{0, 1, 2, 3, 5, 6, 8}\n"
     ]
    }
   ],
   "source": [
    "set1 = {1,8,0,6,5}\n",
    "set2 = {1,2,3,5}\n",
    "#union-->returns all the elements from set1 & set2 with no duplicates (set is unordered & unindexed)\n",
    "setunion = set1 | set2\n",
    "print(setunion)"
   ]
  },
  {
   "cell_type": "markdown",
   "id": "7122266d",
   "metadata": {},
   "source": [
    "Q54. What is intersection() in sets? Explain via code."
   ]
  },
  {
   "cell_type": "code",
   "execution_count": 72,
   "id": "4ac47821",
   "metadata": {},
   "outputs": [
    {
     "name": "stdout",
     "output_type": "stream",
     "text": [
      "{3, 4, 5}\n"
     ]
    }
   ],
   "source": [
    "set1 = {2,3,4,5,6,2,1}\n",
    "set2 = {3,4,5,4,9,0}\n",
    "#intersection -->retuns all the elements which are common in both sets\n",
    "setintersection = set1 & set2\n",
    "print(setintersection)"
   ]
  },
  {
   "cell_type": "markdown",
   "id": "0bd117c8",
   "metadata": {},
   "source": [
    "Q55. What is dictionary in Python?"
   ]
  },
  {
   "cell_type": "markdown",
   "id": "a3be2962",
   "metadata": {},
   "source": [
    "A dictionary is a collection of key value pairs which is ordered*, changeable and do not allow duplicates."
   ]
  },
  {
   "cell_type": "markdown",
   "id": "60ebdeec",
   "metadata": {},
   "source": [
    "Q56. How is dictionary different from all other data structures."
   ]
  },
  {
   "cell_type": "markdown",
   "id": "feb851d1",
   "metadata": {},
   "source": [
    "Dictionary items are presented in key:value pairs, and can be referred to by using the key name not by using index.\n",
    "Dictionaries cannot have two items with the same key and keys must be immutable."
   ]
  },
  {
   "cell_type": "markdown",
   "id": "32621c63",
   "metadata": {},
   "source": [
    "Q57. How can we delare a dictionary in Python?"
   ]
  },
  {
   "cell_type": "code",
   "execution_count": 3,
   "id": "0ce97a47",
   "metadata": {},
   "outputs": [
    {
     "name": "stdout",
     "output_type": "stream",
     "text": [
      "{'key1': 'heart', 'key2': 4}\n"
     ]
    }
   ],
   "source": [
    "dict = {} #empty dictionary\n",
    "dict1 = {'key1':'heart','key2':4}\n",
    "print(dict1)"
   ]
  },
  {
   "cell_type": "markdown",
   "id": "1c04169b",
   "metadata": {},
   "source": [
    "Q58. What will the output of the following?"
   ]
  },
  {
   "cell_type": "code",
   "execution_count": 4,
   "id": "3b79f2a1",
   "metadata": {},
   "outputs": [
    {
     "name": "stdout",
     "output_type": "stream",
     "text": [
      "<class 'dict'>\n"
     ]
    }
   ],
   "source": [
    "var = {}\n",
    "print(type(var)) # class dictionary"
   ]
  },
  {
   "cell_type": "markdown",
   "id": "8e06aba5",
   "metadata": {},
   "source": [
    "Q59. How can we add an element in a dictionary?"
   ]
  },
  {
   "cell_type": "code",
   "execution_count": 5,
   "id": "60f718e2",
   "metadata": {},
   "outputs": [
    {
     "name": "stdout",
     "output_type": "stream",
     "text": [
      "{0: 'nothing'}\n"
     ]
    }
   ],
   "source": [
    "dict[0] = 'nothing'\n",
    "print(dict)"
   ]
  },
  {
   "cell_type": "markdown",
   "id": "873608b0",
   "metadata": {},
   "source": [
    "Q60. Create a dictionary and access all the values in that dictionary."
   ]
  },
  {
   "cell_type": "code",
   "execution_count": 7,
   "id": "08838a59",
   "metadata": {},
   "outputs": [
    {
     "name": "stdout",
     "output_type": "stream",
     "text": [
      "dict_values(['yahoo', 'gmail', 'Hotmail'])\n"
     ]
    }
   ],
   "source": [
    "dict2 = {1:'yahoo',2:'gmail',3:'Hotmail'}\n",
    "values = dict2.values()\n",
    "print(values)"
   ]
  },
  {
   "cell_type": "markdown",
   "id": "fee9ce22",
   "metadata": {},
   "source": [
    "Q61. Create a nested dictionary and access all the element in the inner dictionary."
   ]
  },
  {
   "cell_type": "code",
   "execution_count": 11,
   "id": "a25d6f93",
   "metadata": {},
   "outputs": [
    {
     "name": "stdout",
     "output_type": "stream",
     "text": [
      "{1: 1, 2: 4, 3: 9}\n"
     ]
    }
   ],
   "source": [
    "Nestdict = {'a':'apple','b':'brownie','c':'colors','d':{1:1,2:4,3:9}}\n",
    "print(Nestdict['d'])"
   ]
  },
  {
   "cell_type": "markdown",
   "id": "63fac87a",
   "metadata": {},
   "source": [
    "Q62. What is the use of get() function?"
   ]
  },
  {
   "cell_type": "code",
   "execution_count": 12,
   "id": "fa5303bc",
   "metadata": {},
   "outputs": [
    {
     "name": "stdout",
     "output_type": "stream",
     "text": [
      "apple\n"
     ]
    }
   ],
   "source": [
    "#Returns the value of the specified key\n",
    "print(Nestdict.get('a'))"
   ]
  },
  {
   "cell_type": "markdown",
   "id": "1fada564",
   "metadata": {},
   "source": [
    "Q63. What is the use of items() function?"
   ]
  },
  {
   "cell_type": "code",
   "execution_count": 13,
   "id": "e98c5af9",
   "metadata": {},
   "outputs": [
    {
     "name": "stdout",
     "output_type": "stream",
     "text": [
      "dict_items([('a', 'apple'), ('b', 'brownie'), ('c', 'colors'), ('d', {1: 1, 2: 4, 3: 9})])\n"
     ]
    }
   ],
   "source": [
    "#Returns a list containing a tuple for each key value pair\n",
    "print(Nestdict.items())"
   ]
  },
  {
   "cell_type": "markdown",
   "id": "cb373278",
   "metadata": {},
   "source": [
    "Q64. What is the use of pop() function?"
   ]
  },
  {
   "cell_type": "code",
   "execution_count": 15,
   "id": "b5a195b1",
   "metadata": {},
   "outputs": [
    {
     "name": "stdout",
     "output_type": "stream",
     "text": [
      "brownie\n"
     ]
    }
   ],
   "source": [
    "#Removes the element with the specified key\n",
    "print(Nestdict.pop('b'))"
   ]
  },
  {
   "cell_type": "markdown",
   "id": "88acea15",
   "metadata": {},
   "source": [
    "Q65. What is the use of popitems() function?"
   ]
  },
  {
   "cell_type": "code",
   "execution_count": 16,
   "id": "a0a64511",
   "metadata": {},
   "outputs": [
    {
     "name": "stdout",
     "output_type": "stream",
     "text": [
      "('d', {1: 1, 2: 4, 3: 9})\n"
     ]
    }
   ],
   "source": [
    "#Removes the last inserted key-value pair\n",
    "print(Nestdict.popitem())"
   ]
  },
  {
   "cell_type": "markdown",
   "id": "64cab89a",
   "metadata": {},
   "source": [
    "Q66. What is the use of keys() function?"
   ]
  },
  {
   "cell_type": "code",
   "execution_count": 17,
   "id": "cdf0dbbb",
   "metadata": {},
   "outputs": [
    {
     "name": "stdout",
     "output_type": "stream",
     "text": [
      "dict_keys(['a', 'c'])\n"
     ]
    }
   ],
   "source": [
    "#Returns a list containing the dictionary's keys\n",
    "print(Nestdict.keys())"
   ]
  },
  {
   "cell_type": "markdown",
   "id": "c63c6dd6",
   "metadata": {},
   "source": [
    "Q67. What is the use of values() function?"
   ]
  },
  {
   "cell_type": "code",
   "execution_count": 18,
   "id": "53091259",
   "metadata": {},
   "outputs": [
    {
     "name": "stdout",
     "output_type": "stream",
     "text": [
      "dict_values(['apple', 'colors'])\n"
     ]
    }
   ],
   "source": [
    "#Returns a list of all the values in the dictionary\n",
    "print(Nestdict.values())"
   ]
  },
  {
   "cell_type": "markdown",
   "id": "7a24c3e9",
   "metadata": {},
   "source": [
    "Q68. What are loops in Python?"
   ]
  },
  {
   "cell_type": "markdown",
   "id": "e1e8dfec",
   "metadata": {},
   "source": [
    "A loop statement allows us to execute a statement or group of statements multiple times."
   ]
  },
  {
   "cell_type": "markdown",
   "id": "c0a53472",
   "metadata": {},
   "source": [
    "Q69. How many type of loop are there in Python?"
   ]
  },
  {
   "cell_type": "markdown",
   "id": "c02104ab",
   "metadata": {},
   "source": [
    "There are two types of loops in Python:\n",
    "1.While loop\n",
    "2.For loop"
   ]
  },
  {
   "cell_type": "markdown",
   "id": "d0edb088",
   "metadata": {},
   "source": [
    "Q70. What is the difference between for and while loops?"
   ]
  },
  {
   "cell_type": "markdown",
   "id": "f7f389e5",
   "metadata": {},
   "source": [
    " While loops --> A while loop is used to execute a block of statements repeatedly until a given condition is satisfied.\n",
    " And when the condition becomes false, the line immediately after the loop in the program is executed.\n",
    " sometimes it causes a never ending infinite loop where the condition is always true or if we forget to increment the loop \n",
    " condition explicitly and we have to forcefully terminate the compiler.\n",
    " \n",
    " for loops -->For loop is used for sequential traversal i.e. it is used for iterating over an iterable like String, Tuple,       List, Set or Dictionary.The indented statements inside the for loops are executed once for each item in an iterable. The       variable var takes the value of the next item of the iterable each time through the loop and we need not increment it e         explicitly."
   ]
  },
  {
   "cell_type": "markdown",
   "id": "e291ef3a",
   "metadata": {},
   "source": [
    "Q71. What is the use of continue statement?"
   ]
  },
  {
   "cell_type": "markdown",
   "id": "76998657",
   "metadata": {},
   "source": [
    "Python Continue Statement skips the execution of the program block from after the continue statement\n",
    "and forces the control to start the next iteration. i.e. when the continue statement is executed in the loop,\n",
    "the code inside the loop following the continue statement will be skipped for the current iteration\n",
    "and the next iteration of the loop will begin."
   ]
  },
  {
   "cell_type": "markdown",
   "id": "b5071a87",
   "metadata": {},
   "source": [
    "Q72. What is the use of break statement?"
   ]
  },
  {
   "cell_type": "markdown",
   "id": "18af94ab",
   "metadata": {},
   "source": [
    "break statement in Python is used to bring the control out of the loop when some external condition is triggered.\n",
    "It terminates the current loop, i.e., the loop in which it appears, and resumes execution at the next statement immediately after the end of that loop. "
   ]
  },
  {
   "cell_type": "markdown",
   "id": "2c785450",
   "metadata": {},
   "source": [
    "Q73. What is the use of pass statement?"
   ]
  },
  {
   "cell_type": "markdown",
   "id": "1c0fdf65",
   "metadata": {},
   "source": [
    "The pass statement is a null statement.Sometimes, pass is used when the user doesn’t want any code to execute. So user can simply place pass where empty code is not allowed, like in loops, function definitions, class definitions, or in if statements. So using pass statement user avoids this error."
   ]
  },
  {
   "cell_type": "markdown",
   "id": "2e435b23",
   "metadata": {},
   "source": [
    "Q74. What is the use of range() function?"
   ]
  },
  {
   "cell_type": "markdown",
   "id": "695cd613",
   "metadata": {},
   "source": [
    "The range() function returns a sequence of numbers,in a given range starting from 0 by default,and increments by 1 (by default),and stops before a specified number.\n",
    "The most common use of it is to iterate sequence on a sequence of numbers using Python loops."
   ]
  },
  {
   "cell_type": "markdown",
   "id": "65405377",
   "metadata": {},
   "source": [
    "Q75. How can you loop over a dictionary?"
   ]
  },
  {
   "cell_type": "code",
   "execution_count": 20,
   "id": "05e5126f",
   "metadata": {},
   "outputs": [
    {
     "name": "stdout",
     "output_type": "stream",
     "text": [
      "a apple\n",
      "c colors\n"
     ]
    }
   ],
   "source": [
    "#We can loop over a dictionary using for loop\n",
    "for x,y in Nestdict.items():\n",
    "    print(x,y)"
   ]
  },
  {
   "cell_type": "code",
   "execution_count": 5,
   "id": "6859b646",
   "metadata": {},
   "outputs": [
    {
     "name": "stdout",
     "output_type": "stream",
     "text": [
      "\n"
     ]
    }
   ],
   "source": []
  }
 ],
 "metadata": {
  "kernelspec": {
   "display_name": "Python 3.10.6 64-bit",
   "language": "python",
   "name": "python3"
  },
  "language_info": {
   "codemirror_mode": {
    "name": "ipython",
    "version": 3
   },
   "file_extension": ".py",
   "mimetype": "text/x-python",
   "name": "python",
   "nbconvert_exporter": "python",
   "pygments_lexer": "ipython3",
   "version": "3.10.6"
  },
  "vscode": {
   "interpreter": {
    "hash": "389d50bd5691e3f1c5c617aac3f52e7687e52354e936fb4e3ed6c4be7ca95d7d"
   }
  }
 },
 "nbformat": 4,
 "nbformat_minor": 5
}

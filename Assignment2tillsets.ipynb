{
 "cells": [
  {
   "cell_type": "markdown",
   "id": "f312f223",
   "metadata": {},
   "source": [
    "Q26. What is a string? How can we declare string in Python?"
   ]
  },
  {
   "cell_type": "markdown",
   "id": "f4fac772",
   "metadata": {},
   "source": [
    "Strings are arrays of bytes representing Unicode characters.Strings are immutable, that is we cannot change or delete any character of the string.\n",
    "The ways we can declare string in python:\n",
    "single = 'ferrari'\n",
    "double = \"lamborghini\"\n",
    "multiple = \"\"\"I am \n",
    "a wonderful girl\"\"\""
   ]
  },
  {
   "cell_type": "markdown",
   "id": "455d627d",
   "metadata": {},
   "source": [
    "Q27. How can we access the string using its index?"
   ]
  },
  {
   "cell_type": "code",
   "execution_count": 1,
   "id": "86cdc53f",
   "metadata": {},
   "outputs": [
    {
     "name": "stdout",
     "output_type": "stream",
     "text": [
      "s\n",
      "u\n",
      "a\n"
     ]
    }
   ],
   "source": [
    "#we can access string using its index like this\n",
    "a = \"shalu\"\n",
    "print(a[0])\n",
    "print(a[-1])\n",
    "print(a[2])"
   ]
  },
  {
   "cell_type": "markdown",
   "id": "555b64e3",
   "metadata": {},
   "source": [
    "Q28. Write a code to get the desired output of the following"
   ]
  },
  {
   "cell_type": "code",
   "execution_count": 5,
   "id": "2733c38e",
   "metadata": {},
   "outputs": [
    {
     "name": "stdout",
     "output_type": "stream",
     "text": [
      "iNeuron\n"
     ]
    }
   ],
   "source": [
    "string = \"Big Data iNeuron\"\n",
    "desired_output = print(string[9:16:1])            #\"iNeuron\""
   ]
  },
  {
   "cell_type": "markdown",
   "id": "774f86fe",
   "metadata": {},
   "source": [
    "Q29. Write a code to get the desired output of the following"
   ]
  },
  {
   "cell_type": "code",
   "execution_count": 7,
   "id": "cede4476",
   "metadata": {},
   "outputs": [
    {
     "name": "stdout",
     "output_type": "stream",
     "text": [
      "norueNi\n"
     ]
    }
   ],
   "source": [
    "string = \"Big Data iNeuron\"\n",
    "desired_output = print(string[-1:-8:-1])"
   ]
  },
  {
   "cell_type": "markdown",
   "id": "e0d06354",
   "metadata": {},
   "source": [
    "Q30. Resverse the string given in the above question."
   ]
  },
  {
   "cell_type": "code",
   "execution_count": 26,
   "id": "94448c28",
   "metadata": {},
   "outputs": [
    {
     "name": "stdout",
     "output_type": "stream",
     "text": [
      "norueNi ataD giB\n"
     ]
    }
   ],
   "source": [
    "string = \"Big Data iNeuron\"\n",
    "desired_output = print(string[-1: :-1])"
   ]
  },
  {
   "cell_type": "markdown",
   "id": "c2177186",
   "metadata": {},
   "source": [
    "Q31. How can you delete entire string at once?"
   ]
  },
  {
   "cell_type": "code",
   "execution_count": 27,
   "id": "21a72435",
   "metadata": {},
   "outputs": [],
   "source": [
    "del string"
   ]
  },
  {
   "cell_type": "markdown",
   "id": "af026d81",
   "metadata": {},
   "source": [
    "Q32. What is escape sequence?"
   ]
  },
  {
   "cell_type": "markdown",
   "id": "396023d4",
   "metadata": {},
   "source": [
    "An escape sequence is a special character used in the form of backslash(\\) followed by a character that is required.\n",
    "These characters are used to represent whitespace.\n",
    "Whitespace gives characters like space, tab, formfeed, vertical tab."
   ]
  },
  {
   "cell_type": "code",
   "execution_count": 22,
   "id": "821a67b8",
   "metadata": {},
   "outputs": [
    {
     "name": "stdout",
     "output_type": "stream",
     "text": [
      "My name is 'Cindrella' and I am the \"princess\" \n"
     ]
    }
   ],
   "source": [
    "# examples\n",
    "\n",
    "quote = \"My name is 'Cindrella' and I am the \\\"princess\\\" \"\n",
    "print(quote)"
   ]
  },
  {
   "cell_type": "markdown",
   "id": "915f668c",
   "metadata": {},
   "source": [
    "Q33. How can you print the below string?\n",
    "\n",
    "'iNeuron's Big Data Course'"
   ]
  },
  {
   "cell_type": "code",
   "execution_count": 25,
   "id": "f51e7d1c",
   "metadata": {},
   "outputs": [
    {
     "name": "stdout",
     "output_type": "stream",
     "text": [
      "'iNeuron's Big Data Course'\n"
     ]
    }
   ],
   "source": [
    "print( '\\'iNeuron\\'s Big Data Course\\'')"
   ]
  },
  {
   "cell_type": "markdown",
   "id": "5ced4b53",
   "metadata": {},
   "source": [
    "Q34. What is a list in Python?"
   ]
  },
  {
   "cell_type": "markdown",
   "id": "c5993b7e",
   "metadata": {},
   "source": [
    "Python Lists are just like dynamically sized arrays,and is a sequence data type which is used to store the collection of data.\n",
    "List items are ordered, changeable, and allow duplicate values."
   ]
  },
  {
   "cell_type": "markdown",
   "id": "7ecbf3fb",
   "metadata": {},
   "source": [
    "Q35. How can you create a list in Python? "
   ]
  },
  {
   "cell_type": "code",
   "execution_count": 28,
   "id": "fa3ae06c",
   "metadata": {},
   "outputs": [
    {
     "name": "stdout",
     "output_type": "stream",
     "text": [
      "[1, 2, 'name', [8, 0], (6, 8)]\n"
     ]
    }
   ],
   "source": [
    "# a list is a collection of things, enclosed in [ ] and separated by commas. \n",
    "list = [1,2,'name',[8,0],(6,8)]\n",
    "print(list)"
   ]
  },
  {
   "cell_type": "markdown",
   "id": "bed2722b",
   "metadata": {},
   "source": [
    "Q36. How can we access the elements in a list?"
   ]
  },
  {
   "cell_type": "code",
   "execution_count": 29,
   "id": "4fce4359",
   "metadata": {},
   "outputs": [
    {
     "name": "stdout",
     "output_type": "stream",
     "text": [
      "1\n"
     ]
    }
   ],
   "source": [
    "#we can access the elements using indexing\n",
    "print(list[0])"
   ]
  },
  {
   "cell_type": "markdown",
   "id": "b75ac392",
   "metadata": {},
   "source": [
    "Q37. Write a code to access the word \"iNeuron\" from the given list."
   ]
  },
  {
   "cell_type": "code",
   "execution_count": 31,
   "id": "640b0cc5",
   "metadata": {},
   "outputs": [
    {
     "name": "stdout",
     "output_type": "stream",
     "text": [
      "iNeuron\n"
     ]
    }
   ],
   "source": [
    "lst = [1,2,3,\"Hi\",[45,54, \"iNeuron\"], \"Big Data\"]\n",
    "print(lst[4][2])"
   ]
  },
  {
   "cell_type": "markdown",
   "id": "6f76c9c6",
   "metadata": {},
   "source": [
    "Q38. Take a list as an input from the user and find the length of the list."
   ]
  },
  {
   "cell_type": "code",
   "execution_count": 37,
   "id": "d739b3bf",
   "metadata": {},
   "outputs": [
    {
     "name": "stdout",
     "output_type": "stream",
     "text": [
      "Enter elements(space-separeted): shalu is love\n",
      "The list is: ['shalu', 'is', 'love']\n",
      "length of the list: 3\n"
     ]
    }
   ],
   "source": [
    "#The split() method splits a string into a list.\n",
    "\n",
    "string = input(\"Enter elements(space-separeted): \")\n",
    "list1 = string.split()\n",
    "print('The list is:',list1)\n",
    "print(\"length of the list:\",len(list1))"
   ]
  },
  {
   "cell_type": "markdown",
   "id": "9a0f823b",
   "metadata": {},
   "source": [
    "Q39. Add the word \"Big\" in the 3rd index of the given list."
   ]
  },
  {
   "cell_type": "code",
   "execution_count": 39,
   "id": "7cbb4686",
   "metadata": {},
   "outputs": [
    {
     "name": "stdout",
     "output_type": "stream",
     "text": [
      "['Welcome', 'to', 'Data', 'Big', 'course']\n"
     ]
    }
   ],
   "source": [
    "lst = [\"Welcome\", \"to\", \"Data\", \"course\"]\n",
    "lst.insert(3,\"Big\")\n",
    "print(lst)"
   ]
  },
  {
   "cell_type": "markdown",
   "id": "7f02bf8e",
   "metadata": {},
   "source": [
    "Q40. What is a tuple? How is it different from list?"
   ]
  },
  {
   "cell_type": "markdown",
   "id": "625a581c",
   "metadata": {},
   "source": [
    "A tuple is an immutable collection and are used to store multiple items in a single variable.\n",
    "Differences:-\n",
    "Tuples are written with round brackets().Lists are written with square brackets[].\n",
    "Tuple are immutable.Lists are mutable.\n",
    "But Both contains ordered and duplicate values. "
   ]
  },
  {
   "cell_type": "markdown",
   "id": "610dab0e",
   "metadata": {},
   "source": [
    "Q41. How can you create a tuple in Python?"
   ]
  },
  {
   "cell_type": "code",
   "execution_count": 41,
   "id": "a713dcbc",
   "metadata": {},
   "outputs": [
    {
     "name": "stdout",
     "output_type": "stream",
     "text": [
      "('hello', 4, (6, 7), [7, 0], {'k': 'v'}) 0\n"
     ]
    }
   ],
   "source": [
    "t1 = ('hello',4,(6,7),[7,0],{'k':'v'})\n",
    "t2 = () #empty tuple\n",
    "print(t1,len(t2))"
   ]
  },
  {
   "cell_type": "markdown",
   "id": "8d0e9eff",
   "metadata": {},
   "source": [
    "Q42. Create a tuple and try to add your name in the tuple. Are you able to do it? Support your answer with reason."
   ]
  },
  {
   "cell_type": "code",
   "execution_count": 49,
   "id": "8fc48486",
   "metadata": {},
   "outputs": [
    {
     "name": "stdout",
     "output_type": "stream",
     "text": [
      "(0, 7)\n"
     ]
    }
   ],
   "source": [
    "tupl= (0,7)\n",
    "#we will not be able to do it because Tuples are unchangeable, \n",
    "#meaning that we cannot change, add or remove items after the tuple has been created.\n",
    "print(tupl)"
   ]
  },
  {
   "cell_type": "markdown",
   "id": "bf0a466d",
   "metadata": {},
   "source": [
    "Q43. Can two tuple be appended. If yes, write a code for it. If not, why?"
   ]
  },
  {
   "cell_type": "code",
   "execution_count": 53,
   "id": "96a9b025",
   "metadata": {},
   "outputs": [
    {
     "name": "stdout",
     "output_type": "stream",
     "text": [
      "(('rat', 'mouse'), ('mice', 'monkey'))\n"
     ]
    }
   ],
   "source": [
    "#Yes We can add tuples to tuples. \n",
    "tupl1 = ('rat','mouse')\n",
    "tupl2 = ('mice','monkey')\n",
    "tupl3 = (tupl1 , tupl2)\n",
    "print(tupl3)"
   ]
  },
  {
   "cell_type": "markdown",
   "id": "b8985b58",
   "metadata": {},
   "source": [
    "Q44. Take a tuple as an input and print the count of elements in it."
   ]
  },
  {
   "cell_type": "code",
   "execution_count": 90,
   "id": "e9028033",
   "metadata": {
    "scrolled": true
   },
   "outputs": [
    {
     "name": "stdout",
     "output_type": "stream",
     "text": [
      "write your inputs :90\n"
     ]
    },
    {
     "ename": "TypeError",
     "evalue": "'tuple' object is not callable",
     "output_type": "error",
     "traceback": [
      "\u001b[1;31m---------------------------------------------------------------------------\u001b[0m",
      "\u001b[1;31mTypeError\u001b[0m                                 Traceback (most recent call last)",
      "Input \u001b[1;32mIn [90]\u001b[0m, in \u001b[0;36m<cell line: 5>\u001b[1;34m()\u001b[0m\n\u001b[0;32m      3\u001b[0m \u001b[38;5;28;01mfor\u001b[39;00m i \u001b[38;5;129;01min\u001b[39;00m values:\n\u001b[0;32m      4\u001b[0m     tvalues\u001b[38;5;241m.\u001b[39mappend(i)    \n\u001b[1;32m----> 5\u001b[0m tuple1 \u001b[38;5;241m=\u001b[39m \u001b[38;5;28;43mtuple\u001b[39;49m\u001b[43m(\u001b[49m\u001b[43mtvalues\u001b[49m\u001b[43m)\u001b[49m\n\u001b[0;32m      6\u001b[0m \u001b[38;5;28mprint\u001b[39m(\u001b[38;5;124m\"\u001b[39m\u001b[38;5;124mcount of elements in tuple:\u001b[39m\u001b[38;5;124m\"\u001b[39m,\u001b[38;5;28mlen\u001b[39m(tuple1))\n",
      "\u001b[1;31mTypeError\u001b[0m: 'tuple' object is not callable"
     ]
    }
   ],
   "source": [
    "values = input(\"write your inputs :\")\n",
    "tvalues=[] \n",
    "for i in values:\n",
    "    tvalues.append(i)    \n",
    "tuple1 = tuple(tvalues)\n",
    "print(\"count of elements in tuple:\",len(tuple1))\n",
    "#it's giving correct output in other ide but not here"
   ]
  },
  {
   "cell_type": "markdown",
   "id": "878165a9",
   "metadata": {},
   "source": [
    "Q45. What are sets in Python?"
   ]
  },
  {
   "cell_type": "markdown",
   "id": "93e5aacb",
   "metadata": {},
   "source": [
    "A Set is an unordered collection data type that is iterable, mutable and has no duplicate elements.Set are represented by { } "
   ]
  },
  {
   "cell_type": "markdown",
   "id": "0c47a57d",
   "metadata": {},
   "source": [
    "Q46. How can you create a set?"
   ]
  },
  {
   "cell_type": "code",
   "execution_count": 62,
   "id": "c00b32f6",
   "metadata": {},
   "outputs": [
    {
     "name": "stdout",
     "output_type": "stream",
     "text": [
      "<class 'set'> <class 'set'>\n"
     ]
    }
   ],
   "source": [
    "set1 = set()\n",
    "set2 = {1,3,3,4,67,0}\n",
    "print(type(set1),type(set2))"
   ]
  },
  {
   "cell_type": "markdown",
   "id": "afa5e469",
   "metadata": {},
   "source": [
    "Q47. Create a set and add \"iNeuron\" in your set."
   ]
  },
  {
   "cell_type": "code",
   "execution_count": 65,
   "id": "e525d0d4",
   "metadata": {},
   "outputs": [
    {
     "name": "stdout",
     "output_type": "stream",
     "text": [
      "{'beach', 'goa', 'iNeuron'}\n"
     ]
    }
   ],
   "source": [
    "sett = {'goa','beach'}\n",
    "sett.add('iNeuron')\n",
    "print(sett)"
   ]
  },
  {
   "cell_type": "markdown",
   "id": "c27ab899",
   "metadata": {},
   "source": [
    "Q48. Try to add multiple values using add() function"
   ]
  },
  {
   "cell_type": "code",
   "execution_count": 67,
   "id": "5c837e36",
   "metadata": {},
   "outputs": [
    {
     "name": "stdout",
     "output_type": "stream",
     "text": [
      "{'y', 'u', 'goa', 'z', 'iNeuron', 'beach'}\n"
     ]
    }
   ],
   "source": [
    "sett.add('z')\n",
    "sett.add('y')\n",
    "sett.add('u')\n",
    "print(sett)"
   ]
  },
  {
   "cell_type": "markdown",
   "id": "b3d95096",
   "metadata": {},
   "source": [
    "Q49. How is update() different from add()?"
   ]
  },
  {
   "cell_type": "markdown",
   "id": "dfa026b9",
   "metadata": {},
   "source": [
    "add() accepts single parameter at a time.\n",
    "update() accepts multiple values to be inserted at a time. \n",
    "add () is faster than update ().\n",
    "add () accepts immutable parameters only. Whereas update accepts iterable sequences."
   ]
  },
  {
   "cell_type": "markdown",
   "id": "ade001cc",
   "metadata": {},
   "source": [
    "Q50. What is clear() in sets?"
   ]
  },
  {
   "cell_type": "markdown",
   "id": "8bbfe8f7",
   "metadata": {},
   "source": [
    "Python Set clear() method removes all elements from the set."
   ]
  },
  {
   "cell_type": "markdown",
   "id": "2b40bf4f",
   "metadata": {},
   "source": [
    "Q51. What is frozen set?"
   ]
  },
  {
   "cell_type": "markdown",
   "id": "3e85cb14",
   "metadata": {},
   "source": [
    "Python frozenset() Method creates an immutable Set object from an iterable. It is a built-in Python function.\n",
    "As it is a set object therefore we cannot have duplicate values in the frozenset."
   ]
  },
  {
   "cell_type": "code",
   "execution_count": 68,
   "id": "c87a714f",
   "metadata": {},
   "outputs": [
    {
     "name": "stdout",
     "output_type": "stream",
     "text": [
      "frozenset({'doom', 'dear', 'door'})\n"
     ]
    }
   ],
   "source": [
    "s1 = {\"dear\",\"doom\",\"door\",\"dear\"}\n",
    "frozens1 = frozenset(s1)\n",
    "print(frozens1)"
   ]
  },
  {
   "cell_type": "markdown",
   "id": "77d9e35b",
   "metadata": {},
   "source": [
    "Q52. How is frozen set different from set?\n",
    "Since the elements are fixed, unlike sets we can't add or remove elements from the frozen set.\n",
    "Sets are not hashable but Frozensets are hashable, we can use the elements as a dictionary key or as an element from another set. "
   ]
  },
  {
   "cell_type": "markdown",
   "id": "6b6a9fd1",
   "metadata": {},
   "source": [
    "Q53. What is union() in sets? Explain via code."
   ]
  },
  {
   "cell_type": "code",
   "execution_count": 69,
   "id": "fd476bce",
   "metadata": {},
   "outputs": [
    {
     "name": "stdout",
     "output_type": "stream",
     "text": [
      "{0, 1, 2, 3, 5, 6, 8}\n"
     ]
    }
   ],
   "source": [
    "set1 = {1,8,0,6,5}\n",
    "set2 = {1,2,3,5}\n",
    "#union-->returns all the elements from set1 & set2 with no duplicates (set is unordered & unindexed)\n",
    "setunion = set1 | set2\n",
    "print(setunion)"
   ]
  },
  {
   "cell_type": "markdown",
   "id": "4a77480c",
   "metadata": {},
   "source": [
    "Q54. What is intersection() in sets? Explain via code."
   ]
  },
  {
   "cell_type": "code",
   "execution_count": 72,
   "id": "9c9206c6",
   "metadata": {},
   "outputs": [
    {
     "name": "stdout",
     "output_type": "stream",
     "text": [
      "{3, 4, 5}\n"
     ]
    }
   ],
   "source": [
    "set1 = {2,3,4,5,6,2,1}\n",
    "set2 = {3,4,5,4,9,0}\n",
    "#intersection -->retuns all the elements which are common in both sets\n",
    "setintersection = set1 & set2\n",
    "print(setintersection)"
   ]
  },
  {
   "cell_type": "code",
   "execution_count": null,
   "id": "dc9445a8",
   "metadata": {},
   "outputs": [],
   "source": []
  }
 ],
 "metadata": {
  "kernelspec": {
   "display_name": "Python 3 (ipykernel)",
   "language": "python",
   "name": "python3"
  },
  "language_info": {
   "codemirror_mode": {
    "name": "ipython",
    "version": 3
   },
   "file_extension": ".py",
   "mimetype": "text/x-python",
   "name": "python",
   "nbconvert_exporter": "python",
   "pygments_lexer": "ipython3",
   "version": "3.9.12"
  }
 },
 "nbformat": 4,
 "nbformat_minor": 5
}

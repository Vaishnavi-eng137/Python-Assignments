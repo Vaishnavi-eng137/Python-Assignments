{
 "cells": [
  {
   "cell_type": "markdown",
   "metadata": {},
   "source": [
    "Q76. Write a Python program to find the factorial of a given number."
   ]
  },
  {
   "cell_type": "code",
   "execution_count": 6,
   "metadata": {},
   "outputs": [
    {
     "data": {
      "text/plain": [
       "6"
      ]
     },
     "execution_count": 6,
     "metadata": {},
     "output_type": "execute_result"
    }
   ],
   "source": [
    "def factorial(num):\n",
    "    res = 1\n",
    "    for i in range(1,num+1):\n",
    "        res = res*i\n",
    "    return res\n",
    "\n",
    "factorial(3)"
   ]
  },
  {
   "cell_type": "markdown",
   "metadata": {},
   "source": [
    "Q77. Write a Python program to calculate the simple interest. Formula to calculate simple interest is SI = (P*R*T)/100"
   ]
  },
  {
   "cell_type": "code",
   "execution_count": 9,
   "metadata": {},
   "outputs": [
    {
     "data": {
      "text/plain": [
       "8.0"
      ]
     },
     "execution_count": 9,
     "metadata": {},
     "output_type": "execute_result"
    }
   ],
   "source": [
    "def CalcSI(p,r,t):\n",
    "    SI = (p*r*t)/100\n",
    "    return SI\n",
    "\n",
    "p = int(input(\"Enter the principal amount:\"))\n",
    "r = int(input(\"Enter the rate%:\"))\n",
    "t = int(input(\"Enter the time period:\"))\n",
    "\n",
    "CalcSI(p,r,t)"
   ]
  },
  {
   "cell_type": "markdown",
   "metadata": {},
   "source": [
    "Q78. Write a Python program to calculate the compound interest. Formula of compound interest is A = P(1+ R/100)^t."
   ]
  },
  {
   "cell_type": "code",
   "execution_count": 12,
   "metadata": {},
   "outputs": [],
   "source": [
    "p = int(input(\"Enter the principal amount:\"))\n",
    "r = int(input(\"Enter the rate%:\"))\n",
    "t = int(input(\"Enter the time period:\"))\n",
    "\n",
    "def compInterest(principal=1,rate=1,time=1): #I am giving default arguments\n",
    "    final_amount = principal*(1+rate/100)**time\n",
    "    return final_amount\n",
    "\n",
    "compInterest(principal=p,time=t,rate=r) #giving keyword agruments so that we need not remember the position of parameters.\n"
   ]
  },
  {
   "cell_type": "markdown",
   "metadata": {},
   "source": [
    "Q79. Write a Python program to check if a number is prime or not."
   ]
  },
  {
   "cell_type": "code",
   "execution_count": 22,
   "metadata": {},
   "outputs": [
    {
     "name": "stdout",
     "output_type": "stream",
     "text": [
      "8 is not a prime number\n"
     ]
    }
   ],
   "source": [
    "\n",
    "num = int(input(\"Enter a number: \"))\n",
    "\n",
    "def checkPrime(num = 1):\n",
    "    flag = False\n",
    "    if num == 1 or num <=0 :\n",
    "        flag = True\n",
    "    elif num > 1:\n",
    "        for i in range(2,num):\n",
    "            if (num%i) == 0:\n",
    "                flag = True\n",
    "    if flag:\n",
    "        print(num, \"is not a prime number\")\n",
    "    else:\n",
    "        print(num, \"is a prime number\")\n",
    "\n",
    "checkPrime(num)\n"
   ]
  },
  {
   "cell_type": "markdown",
   "metadata": {},
   "source": [
    "Q80. Write a Python program to check Armstrong Number.\n",
    "An Armstrong number of three digits is an integer such that the sum of the cubes of its digits is equal to the number itself.\n",
    "For example, 371 is an Armstrong number since 3**3 + 7**3 + 1**3 = 371."
   ]
  },
  {
   "cell_type": "code",
   "execution_count": 32,
   "metadata": {},
   "outputs": [
    {
     "data": {
      "text/plain": [
       "(371, 'number is a armstrong number')"
      ]
     },
     "execution_count": 32,
     "metadata": {},
     "output_type": "execute_result"
    }
   ],
   "source": [
    "num = int(input(\"Write your number:\"))\n",
    "\n",
    "def Check_armstrong(num = 1):\n",
    "    flag = False\n",
    "    if num<10:\n",
    "        flag = True\n",
    "    elif num >= 10:\n",
    "        result = 0\n",
    "        for i in range(0,len(str(num))):\n",
    "            result = result + int(str(num)[i])**len(str(num))\n",
    "        if result == num:\n",
    "            flag = True\n",
    "\n",
    "    if flag:\n",
    "        return(num,\"number is a armstrong number\")\n",
    "    else:\n",
    "        return(num,\"Sorry number is not a armstrong number\")\n",
    "\n",
    "    \n",
    "Check_armstrong(num)\n"
   ]
  },
  {
   "cell_type": "markdown",
   "metadata": {},
   "source": [
    "Q81. Write a Python program to find the n-th Fibonacci Number.\n",
    "if n = 0, then fib() should return 0. If n = 1, then it should return 1. For n > 1, it should return Fn-1 + Fn-2"
   ]
  },
  {
   "cell_type": "code",
   "execution_count": 87,
   "metadata": {},
   "outputs": [
    {
     "data": {
      "text/plain": [
       "8"
      ]
     },
     "execution_count": 87,
     "metadata": {},
     "output_type": "execute_result"
    }
   ],
   "source": [
    "n = int(input(\"test the number:\"))\n",
    "\n",
    "def Fibonacci(n):\n",
    "    f = [0, 1]\n",
    "    if n <= 1:\n",
    "        return n\n",
    "    elif n>1:\n",
    "        for i in range(2, n+1):\n",
    "            f.append(f[i-1] + f[i-2])\n",
    "        return f[n]\n",
    "     \n",
    "Fibonacci(n)"
   ]
  },
  {
   "cell_type": "markdown",
   "metadata": {},
   "source": [
    "Q82. Write a Python program to interchange the first and last element in a list."
   ]
  },
  {
   "cell_type": "code",
   "execution_count": 94,
   "metadata": {},
   "outputs": [
    {
     "data": {
      "text/plain": [
       "[0, 2, 3, 34, 1]"
      ]
     },
     "execution_count": 94,
     "metadata": {},
     "output_type": "execute_result"
    }
   ],
   "source": [
    "list = [1,2,3,34,0]\n",
    "def Interchange_list(list):\n",
    "    temp = list[0] \n",
    "    list[0] = list[len(list)-1]\n",
    "    list[-1] = temp\n",
    "    return list\n",
    "\n",
    "Interchange_list(list)\n",
    "\n"
   ]
  },
  {
   "cell_type": "markdown",
   "metadata": {},
   "source": [
    "Q83. Write a Python program to swap two elements in a list."
   ]
  },
  {
   "cell_type": "code",
   "execution_count": 93,
   "metadata": {},
   "outputs": [
    {
     "name": "stdout",
     "output_type": "stream",
     "text": [
      "['processed', 'raw', 'kitchen', 'prepare']\n"
     ]
    }
   ],
   "source": [
    "swaplist = ['raw','processed','kitchen','prepare']\n",
    "swaplist[0],swaplist[1] = swaplist[1],swaplist[0]\n",
    "print(swaplist)"
   ]
  },
  {
   "cell_type": "markdown",
   "metadata": {},
   "source": [
    "Q84. Write a Python program to find N largest element from a list."
   ]
  },
  {
   "cell_type": "code",
   "execution_count": 106,
   "metadata": {},
   "outputs": [
    {
     "data": {
      "text/plain": [
       "9"
      ]
     },
     "execution_count": 106,
     "metadata": {},
     "output_type": "execute_result"
    }
   ],
   "source": [
    "def largest(list):\n",
    "    greatest = 0\n",
    "    for i in range(len(list)-1):\n",
    "        if list[i] <= list[i+1]:\n",
    "            continue\n",
    "        elif list[i] >= list[i+1]:\n",
    "            greatest = list[i]\n",
    "    return greatest\n",
    "\n",
    "largest([1,2,6,4,8,9,9,3])\n",
    "        "
   ]
  },
  {
   "cell_type": "markdown",
   "metadata": {},
   "source": [
    "Q85. Write a Python program to find cumulative sum of a list."
   ]
  },
  {
   "cell_type": "code",
   "execution_count": 109,
   "metadata": {},
   "outputs": [
    {
     "data": {
      "text/plain": [
       "27"
      ]
     },
     "execution_count": 109,
     "metadata": {},
     "output_type": "execute_result"
    }
   ],
   "source": [
    "def cumulative_Sum(list):\n",
    "    sum=0\n",
    "    for i in list:\n",
    "        sum = sum+i\n",
    "    return sum\n",
    "cumulative_Sum([9,5,6,7])"
   ]
  },
  {
   "cell_type": "markdown",
   "metadata": {},
   "source": [
    "Q86. Write a Python program to check if a string is palindrome or not."
   ]
  },
  {
   "cell_type": "code",
   "execution_count": 118,
   "metadata": {},
   "outputs": [
    {
     "data": {
      "text/plain": [
       "('TaTa', \"It's a Palindrome\")"
      ]
     },
     "execution_count": 118,
     "metadata": {},
     "output_type": "execute_result"
    }
   ],
   "source": [
    "def palindrome(string):\n",
    "    flag = False\n",
    "    for i in range(1,len(string)):\n",
    "        if string[i] == string[len(string)-i]:\n",
    "            flag = True\n",
    "        else:\n",
    "            flag = False\n",
    "\n",
    "    if flag:\n",
    "        return(string,\"It's a Palindrome\")\n",
    "    else:\n",
    "        return(string,\"It's not a Palindrome\")\n",
    "\n",
    "palindrome(\"TaTa\")"
   ]
  },
  {
   "cell_type": "markdown",
   "metadata": {},
   "source": [
    "Q87. Write a Python program to remove i'th element from a string."
   ]
  },
  {
   "cell_type": "code",
   "execution_count": 128,
   "metadata": {},
   "outputs": [
    {
     "data": {
      "text/plain": [
       "'norii'"
      ]
     },
     "execution_count": 128,
     "metadata": {},
     "output_type": "execute_result"
    }
   ],
   "source": [
    "string = input(\"Enter the string:\")\n",
    "i = int(input(\"The element to remove:\"))\n",
    "\n",
    "def Remove_element(string,i):\n",
    "    #Characters before the i-th indexed\n",
    "    a = string[ : i] \n",
    "    #Characters after the i-th indexed    \n",
    "    b = string[i+1:]\n",
    "    return a+b\n",
    "\n",
    "Remove_element(string,i)\n",
    "\n"
   ]
  },
  {
   "cell_type": "markdown",
   "metadata": {},
   "source": [
    "Q88. Write a Python program to check if a substring is present in a given string."
   ]
  },
  {
   "cell_type": "code",
   "execution_count": 130,
   "metadata": {},
   "outputs": [
    {
     "data": {
      "text/plain": [
       "('wildcraft', 'w', 'substring is present in given string')"
      ]
     },
     "execution_count": 130,
     "metadata": {},
     "output_type": "execute_result"
    }
   ],
   "source": [
    "\n",
    "givenstr = input(\"Enter the string:\")\n",
    "substring = input(\"Check for presence of substring:\")\n",
    "\n",
    "def search_String(string,substring):\n",
    "    for i in string:\n",
    "        if i == substring:\n",
    "            return(string,substring,\"substring is present in given string\")\n",
    "        else:\n",
    "            return(string,substring,\"substring is not present in given string\")\n",
    "\n",
    "search_String(givenstr,substring)"
   ]
  },
  {
   "cell_type": "markdown",
   "metadata": {},
   "source": [
    "Q89. Write a Python program to find words which are greater than given length k."
   ]
  },
  {
   "cell_type": "code",
   "execution_count": 134,
   "metadata": {},
   "outputs": [
    {
     "data": {
      "text/plain": [
       "['toys', 'business']"
      ]
     },
     "execution_count": 134,
     "metadata": {},
     "output_type": "execute_result"
    }
   ],
   "source": [
    "length = int(input(\"Enter the required length:\"))\n",
    "list = [\"toys\",\"uno\",\"car\",\"business\"]\n",
    "\n",
    "def findword(length):\n",
    "    newlist = []                  #if provided string then list = string.split(\" \")\n",
    "    for i in list:\n",
    "        if len(i) <= length:\n",
    "            continue\n",
    "        else:\n",
    "            newlist.append(i)\n",
    "\n",
    "    return newlist\n",
    "\n",
    "findword(length)"
   ]
  },
  {
   "cell_type": "markdown",
   "metadata": {},
   "source": [
    "Q90. Write a Python program to extract unique dictionary values."
   ]
  },
  {
   "cell_type": "code",
   "execution_count": 5,
   "metadata": {},
   "outputs": [
    {
     "data": {
      "text/plain": [
       "{'bunny', 'shalu', 'shipra'}"
      ]
     },
     "execution_count": 5,
     "metadata": {},
     "output_type": "execute_result"
    }
   ],
   "source": [
    "dict1 = {'a':'shalu','b':'bunny','c':'shipra','d':'bunny'}  \n",
    "\n",
    "def unique(dict):\n",
    "    value = []\n",
    "    for i in dict.keys():\n",
    "        value.append(dict[i])\n",
    "    value = set(value)\n",
    "    return value\n",
    "unique(dict1)   \n",
    "        "
   ]
  },
  {
   "cell_type": "markdown",
   "metadata": {},
   "source": [
    "Q91. Write a Python program to merge two dictionary."
   ]
  },
  {
   "cell_type": "code",
   "execution_count": 158,
   "metadata": {},
   "outputs": [
    {
     "data": {
      "text/plain": [
       "{1: 'thread', 2: 'needle', 6: 'silk', 7: 'cotton'}"
      ]
     },
     "execution_count": 158,
     "metadata": {},
     "output_type": "execute_result"
    }
   ],
   "source": [
    "dict1 = {1:'thread',2:'needle'}\n",
    "dict2 = {6:'silk',7:'cotton'}\n",
    "\n",
    "def merge(dict1,dict2):\n",
    "    res = dict1 | dict2 \n",
    "    # or return(dict1.update(dict2)) since it returns none\n",
    "    return res\n",
    "\n",
    "merge(dict1,dict2)\n"
   ]
  },
  {
   "cell_type": "markdown",
   "metadata": {},
   "source": [
    "Q92. Write a Python program to convert a list of tuples into dictionary.\n",
    "```\n",
    "Input : [('Sachin', 10), ('MSD', 7), ('Kohli', 18), ('Rohit', 45)]\n",
    "Output : {'Sachin': 10, 'MSD': 7, 'Kohli': 18, 'Rohit': 45}\n",
    "```"
   ]
  },
  {
   "cell_type": "code",
   "execution_count": 3,
   "metadata": {},
   "outputs": [
    {
     "data": {
      "text/plain": [
       "{'Sachin': 10, 'MSD': 7, 'Kohli': 18, 'Rohit': 45}"
      ]
     },
     "execution_count": 3,
     "metadata": {},
     "output_type": "execute_result"
    }
   ],
   "source": [
    "Input = [('Sachin', 10), ('MSD', 7), ('Kohli', 18), ('Rohit', 45)]\n",
    "\n",
    "def converter(input):\n",
    "     result = dict(Input)  \n",
    "     return result\n",
    "converter(Input)"
   ]
  },
  {
   "cell_type": "markdown",
   "metadata": {},
   "source": [
    "Q93. Write a Python program to create a list of tuples from given list having number and its cube in each tuple.\n",
    "```\n",
    "Input: list = [9, 5, 6]\n",
    "Output: [(9, 729), (5, 125), (6, 216)]\n",
    "```"
   ]
  },
  {
   "cell_type": "code",
   "execution_count": 4,
   "metadata": {},
   "outputs": [
    {
     "data": {
      "text/plain": [
       "[(9, 729), (5, 125), (6, 216)]"
      ]
     },
     "execution_count": 4,
     "metadata": {},
     "output_type": "execute_result"
    }
   ],
   "source": [
    "list = [9, 5, 6]\n",
    "def createTuple(list):\n",
    "    output=[]\n",
    "    for i in list:\n",
    "        tpl = (i,i**3)\n",
    "        output.append(tpl)\n",
    "    return output\n",
    "createTuple(list)"
   ]
  },
  {
   "cell_type": "markdown",
   "metadata": {},
   "source": [
    "Q94. Write a Python program to get all combinations of 2 tuples.\n",
    "```\n",
    "Input : test_tuple1 = (7, 2), test_tuple2 = (7, 8)\n",
    "Output : [(7, 7), (7, 8), (2, 7), (2, 8), (7, 7), (7, 2), (8, 7), (8, 2)]\n",
    "```"
   ]
  },
  {
   "cell_type": "code",
   "execution_count": 6,
   "metadata": {},
   "outputs": [
    {
     "data": {
      "text/plain": [
       "[(7, 7), (7, 8), (2, 7), (2, 8), (7, 7), (7, 2), (8, 7), (8, 2)]"
      ]
     },
     "execution_count": 6,
     "metadata": {},
     "output_type": "execute_result"
    }
   ],
   "source": [
    "test_tuple1 = (7,2)              #important topic\n",
    "test_tuple2 = (7,8)\n",
    "def combination(t1,t2):\n",
    "# Using list comprehension\n",
    "    res = [(a, b) for a in test_tuple1 for b in test_tuple2]\n",
    "    res = res + [(a, b) for a in test_tuple2 for b in test_tuple1]\n",
    "    return res \n",
    "\n",
    "combination(test_tuple1,test_tuple2)                                               "
   ]
  },
  {
   "cell_type": "markdown",
   "metadata": {},
   "source": [
    "Q95. Write a Python program to sort a list of tuples by second item.\n",
    "```\n",
    "Input : [('for', 24), ('Geeks', 8), ('Geeks', 30)] \n",
    "Output : [('Geeks', 8), ('for', 24), ('Geeks', 30)]\n",
    "```\n"
   ]
  },
  {
   "cell_type": "code",
   "execution_count": 7,
   "metadata": {},
   "outputs": [
    {
     "data": {
      "text/plain": [
       "[('Geeks', 8), ('for', 24), ('Geeks', 30)]"
      ]
     },
     "execution_count": 7,
     "metadata": {},
     "output_type": "execute_result"
    }
   ],
   "source": [
    "Input = [('for', 24), ('Geeks', 8), ('Geeks', 30)] \n",
    "def sort(l1):\n",
    "        temp = l1[0]\n",
    "        l1[0] =l1[1]\n",
    "        l1[1] = temp\n",
    "        return l1\n",
    "\n",
    "sort(Input)\n"
   ]
  },
  {
   "cell_type": "markdown",
   "metadata": {},
   "source": [
    "Q96. Write a python program to print below pattern.\n",
    "```\n",
    "* \n",
    "* * \n",
    "* * * \n",
    "* * * * \n",
    "* * * * * \n",
    "```"
   ]
  },
  {
   "cell_type": "code",
   "execution_count": 53,
   "metadata": {},
   "outputs": [
    {
     "name": "stdout",
     "output_type": "stream",
     "text": [
      "* \n",
      "* * \n",
      "* * * \n",
      "* * * * \n",
      "* * * * * \n",
      "\n"
     ]
    }
   ],
   "source": [
    "n = int(input(\"Enter number of rows:\"))\n",
    "\n",
    "for i in range(1,n+1):\n",
    "        print(i*'* ')\n",
    "print()    "
   ]
  },
  {
   "cell_type": "markdown",
   "metadata": {},
   "source": [
    "Q97. Write a python program to print below pattern.\n",
    "```\n",
    "    *\n",
    "   **\n",
    "  ***\n",
    " ****\n",
    "*****\n",
    "```"
   ]
  },
  {
   "cell_type": "code",
   "execution_count": 74,
   "metadata": {},
   "outputs": [
    {
     "name": "stdout",
     "output_type": "stream",
     "text": [
      "    *\n",
      "   **\n",
      "  ***\n",
      " ****\n",
      "*****\n"
     ]
    }
   ],
   "source": [
    "n = int(input(\"Enter number of rows:\"))\n",
    "\n",
    "for i in range(1,n+1):\n",
    "    for j in range(1,n+1):\n",
    "        if (j>=n+1-i):\n",
    "            print (\"*\", end='')\n",
    "        else:\n",
    "            print (\" \",end=\"\")    \n",
    "    print ()"
   ]
  },
  {
   "cell_type": "markdown",
   "metadata": {},
   "source": [
    "Q98. Write a python program to print below pattern.\n",
    "```\n",
    "    * \n",
    "   * * \n",
    "  * * * \n",
    " * * * * \n",
    "* * * * * \n",
    "```"
   ]
  },
  {
   "cell_type": "code",
   "execution_count": 79,
   "metadata": {},
   "outputs": [
    {
     "name": "stdout",
     "output_type": "stream",
     "text": [
      "     *\n",
      "    * *\n",
      "   * * *\n",
      "  * * * *\n",
      " * * * * *\n"
     ]
    }
   ],
   "source": [
    "n = int(input(\"Enter no. of rows:\"))\n",
    "\n",
    "for i in range(1,n+1):\n",
    "    for j in range(1,n+1):\n",
    "        if (j>=n+1-i):\n",
    "            print(\" *\",end='')\n",
    "        else:\n",
    "            print(\" \",end=\"\")\n",
    "    print()"
   ]
  },
  {
   "cell_type": "markdown",
   "metadata": {},
   "source": [
    "Q99. Write a python program to print below pattern.\n",
    "```\n",
    "1 \n",
    "1 2 \n",
    "1 2 3 \n",
    "1 2 3 4 \n",
    "1 2 3 4 5"
   ]
  },
  {
   "cell_type": "code",
   "execution_count": 14,
   "metadata": {},
   "outputs": [
    {
     "name": "stdout",
     "output_type": "stream",
     "text": [
      "1  \n",
      "1  2  \n",
      "1  2  3  \n",
      "1  2  3  4  \n",
      "1  2  3  4  5  \n"
     ]
    }
   ],
   "source": [
    "n = int(input(\"Enter the no. of rows:\"))\n",
    "\n",
    "for i in range(n):\n",
    "        for j in range(i+1):\n",
    "                print(j+1,' ',end='')\n",
    "        print()       "
   ]
  },
  {
   "cell_type": "markdown",
   "metadata": {},
   "source": [
    "Q100. Write a python program to print below pattern.\n",
    "```\n",
    "A \n",
    "B B \n",
    "C C C \n",
    "D D D D \n",
    "E E E E E \n",
    "```\n"
   ]
  },
  {
   "cell_type": "code",
   "execution_count": 13,
   "metadata": {},
   "outputs": [
    {
     "name": "stdout",
     "output_type": "stream",
     "text": [
      "A  \n",
      "B  B  \n",
      "C  C  C  \n",
      "D  D  D  D  \n",
      "E  E  E  E  E  \n"
     ]
    }
   ],
   "source": [
    "n= int(input(\"Enter no. of rows:\"))\n",
    "for i in range(65,n+65):\n",
    "    for j in range(65,i+1):\n",
    "        print(chr(i),' ',end='')\n",
    "    print()"
   ]
  }
 ],
 "metadata": {
  "kernelspec": {
   "display_name": "Python 3.10.6 64-bit",
   "language": "python",
   "name": "python3"
  },
  "language_info": {
   "codemirror_mode": {
    "name": "ipython",
    "version": 3
   },
   "file_extension": ".py",
   "mimetype": "text/x-python",
   "name": "python",
   "nbconvert_exporter": "python",
   "pygments_lexer": "ipython3",
   "version": "3.10.6"
  },
  "orig_nbformat": 4,
  "vscode": {
   "interpreter": {
    "hash": "389d50bd5691e3f1c5c617aac3f52e7687e52354e936fb4e3ed6c4be7ca95d7d"
   }
  }
 },
 "nbformat": 4,
 "nbformat_minor": 2
}
